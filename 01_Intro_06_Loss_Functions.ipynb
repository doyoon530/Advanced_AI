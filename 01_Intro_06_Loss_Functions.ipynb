{
 "cells": [
  {
   "attachments": {},
   "cell_type": "markdown",
   "metadata": {},
   "source": [
    "# Loss Functions\n",
    "\n",
    "    1.   *torch.nn.L1Loss                     - L1 Loss Function\n",
    "    2.   *torch.nn.MSELoss                    - Mean Square Error Loss Function\n",
    "    3.   *torch.nn.CrossEntropyLoss           - Cross entropy loss function\n",
    "    4.   torch.nn.NLLLoss                    - Negative Log Likelihood loss function\n",
    "    5.   torch.nn.PoissonNLLLoss             - Poisson Negative Log Likelihood loss function\n",
    "    6.   torch.nn.nn.KLDivLoss               - Kullback Leiber Divergence loss function\n",
    "    7.   *torch.nn.BCELoss                    - Binary cross entropy loss function\n",
    "    8.   *torch.BCEWithLogitsLoss             - Binary cross entropy loss with logits function\n",
    "    9.   torch.nn.MarginRankingLoss          - Margin ranking loss function\n",
    "    10.  torch.nn.HingeEmbeddingLoss         - Hinge Embedding Loss function\n",
    "    11.  torch.nn.MultiLabelMarginLoss       - Multi Label Margin loss function\n",
    "    12.  torch.nn.SmoothL1Loss               - Smooth L1 Loss function\n",
    "    13.  torch.nn.MultiLabelSoftMarginLoss   - Multi Label Soft Margin Loss function\n",
    "    14.  torch.nn.CosineEmbeddingLoss        - Cosine Embedding loss function\n",
    "    15.  torch.nn.MultiMarginLoss            - Multi Margin loss function\n",
    "    16.  torch.nn.TripletMarginLoss          - Triplet Margin Loss Function"
   ]
  },
  {
   "cell_type": "code",
   "execution_count": 18,
   "metadata": {},
   "outputs": [],
   "source": [
    "import os\n",
    "import sys\n",
    "import torch\n",
    "import numpy as np\n",
    "import torch.nn as nn\n",
    "from torchvision import transforms, datasets\n",
    "from PIL import Image\n",
    "import cv2\n",
    "import matplotlib.pyplot as plt\n",
    "import torchvision\n",
    "\n",
    "# FUNCTIONAL modules - Implementing each module as functions\n",
    "import torch.nn.functional as F"
   ]
  },
  {
   "attachments": {},
   "cell_type": "markdown",
   "metadata": {},
   "source": [
    "## Cross-Entropy\n",
    "\n",
    "<img src=\"img/cross_entropy.png\" width=\"700\">  \n",
    "\n",
    "Cross Entropy Loss는 보통 Classification용으로 사용  \n",
    "Linear Model (딥러닝 모델)을 통해서 최종값 (Logit 또는 스코어)이 나오고, `Softmax 함수를 통해 이 값들의 범위는 [0,1], 총 합은 1로 설정`.  \n",
    "`최종 Loss는 One-hot Label (정답 라벨)과의 Cross Entropy`\n",
    "\n",
    "<img src=\"img/cross_entropy_2.png\" width=\"700\">  \n",
    "\n",
    "정답 클래스에 해당하는 스코어에 대해서만 로그합을 구하여 최종 Loss 계산\n",
    "\n",
    "$$ \\text{loss}(x, \\text{class}) = -\\log\\left(\\frac{\\exp(x[\\text{class}])}{\\sum_j \\exp(x[j])}\\right) = -x[\\text{class}] + \\log\\left(\\sum_j \\exp(x[j])\\right) $$"
   ]
  },
  {
   "cell_type": "code",
   "execution_count": 20,
   "metadata": {},
   "outputs": [
    {
     "data": {
      "text/plain": [
       "[2.718281828459045, 0.1353352832366127, 1.0]"
      ]
     },
     "execution_count": 20,
     "metadata": {},
     "output_type": "execute_result"
    }
   ],
   "source": [
    "[np.exp(1),np.exp(-2),np.exp(0)]"
   ]
  },
  {
   "cell_type": "code",
   "execution_count": 33,
   "metadata": {},
   "outputs": [
    {
     "data": {
      "text/plain": [
       "0.7053845126982411"
      ]
     },
     "execution_count": 33,
     "metadata": {},
     "output_type": "execute_result"
    }
   ],
   "source": [
    "np.exp(1)/(np.exp(1)+np.exp(-2)+np.exp(0))"
   ]
  },
  {
   "cell_type": "code",
   "execution_count": 30,
   "metadata": {},
   "outputs": [
    {
     "data": {
      "text/plain": [
       "1.1851223516044767"
      ]
     },
     "execution_count": 30,
     "metadata": {},
     "output_type": "execute_result"
    }
   ],
   "source": [
    "np.exp(-2)/(np.exp(1)+np.exp(-2)+np.exp(0))"
   ]
  },
  {
   "cell_type": "code",
   "execution_count": 34,
   "metadata": {},
   "outputs": [
    {
     "data": {
      "text/plain": [
       "0.25949646034241913"
      ]
     },
     "execution_count": 34,
     "metadata": {},
     "output_type": "execute_result"
    }
   ],
   "source": [
    "np.exp(0)/(np.exp(1)+np.exp(-2)+np.exp(0))"
   ]
  },
  {
   "cell_type": "code",
   "execution_count": 25,
   "metadata": {},
   "outputs": [
    {
     "data": {
      "text/plain": [
       "0.34955747616986843"
      ]
     },
     "execution_count": 25,
     "metadata": {},
     "output_type": "execute_result"
    }
   ],
   "source": [
    "-1*(1*np.log(0.705))+(0*np.log(0.305))+(0*np.log(0.259))"
   ]
  },
  {
   "cell_type": "code",
   "execution_count": 32,
   "metadata": {},
   "outputs": [
    {
     "data": {
      "text/plain": [
       "0.34955747616986843"
      ]
     },
     "execution_count": 32,
     "metadata": {},
     "output_type": "execute_result"
    }
   ],
   "source": [
    "-1*np.log(0.705)"
   ]
  },
  {
   "attachments": {},
   "cell_type": "markdown",
   "metadata": {},
   "source": [
    "`Cross-Entropy Loss를 적용하기 위해서는 Softmax 필요하지만, PyTorch에서는 softmax와 cross-entropy를 합쳐서 계산 해주기 때문에 맨 마지막 layer가 softmax일 필요가 없음`\n",
    "\n",
    "```Python\n",
    "torch.nn.CrossEntropyLoss(weight=None, size_average=None, ignore_index=-100, reduce=None, reduction='mean')\n",
    "```\n",
    "\n",
    "Input tensor size는 일반적으로 (minibatch, Class), class의 range는 [0, C-1].  \n",
    "Target의 shape은 (minibatch, ), target[i]의 range는 [0, C-1].\n",
    "\n",
    "<img src=\"img/cross_entropy_loss.png\" width=\"700\">  <br>\n",
    "\n",
    "<img src=\"img/cross_entropy_loss_2.png\" width=\"700\">  \n",
    "\n",
    "`실제 코드 작성 방법`\n",
    "\n",
    "```Python\n",
    "import torch.nn as nn\n",
    "criterion = nn.CrossEntropyLoss()\n",
    "...\n",
    "loss = criterion(input, target)\n",
    "```"
   ]
  },
  {
   "attachments": {},
   "cell_type": "markdown",
   "metadata": {},
   "source": [
    "## Binary Cross Entropy Loss\n",
    "\n",
    "`Class 가 2개인 binary case인 경우에는 BCELoss를 사용`\n",
    "\n",
    "```python\n",
    "torch.nn.BCELoss(weight=None, size_average=None, reduce=None, reduction='mean')\n",
    "```\n",
    "\n",
    "`BCELoss는 CrossEntropyLoss와 같이 softmax를 포함하지 않으므로,` softmax 또는 다른 activation function을 따로 적용!!  \n",
    "Binary class이기 때문에 input과 target의 shape이 모두 (minibatch, )  \n",
    "각 minibatch 마다 input 값의 range는 [0,1]이고, target 값은 0 또는 1.  \n",
    "\n",
    "\n",
    "```Python\n",
    "import torch.nn as nn\n",
    "criterion = nn.BCELoss()\n",
    "...\n",
    "loss = criterion(nn.Sigmoid(input), target) # 또는 nn.Softmax(input)\n",
    "```\n",
    "\n",
    "$$\\ell(x, y) = L = \\{l_1,\\dots,l_N\\}^\\top, \\quad\n",
    "l_n = - w_n \\left[ y_n \\cdot \\log x_n + (1 - y_n) \\cdot \\log (1 - x_n) \\right]$$\n",
    "\n",
    "<img src = \"img/BCELoss.png\" width=\"900\"> <br>\n",
    "<img src = \"img/BCELoss_calc.png\" width=\"900\">"
   ]
  },
  {
   "cell_type": "code",
   "execution_count": 11,
   "metadata": {},
   "outputs": [
    {
     "name": "stdout",
     "output_type": "stream",
     "text": [
      "Module Implementation\n",
      "Input Data =  tensor([-0.7372, -0.4945, -0.1636, -0.1335,  0.7359], requires_grad=True)\n",
      "Target Data =  tensor([0., 1., 1., 0., 1.])\n",
      "Output Loss =  tensor(0.6320, grad_fn=<BinaryCrossEntropyBackward0>)\n",
      "\n",
      "\n",
      "Functional implementation\n",
      "Output Loss =  tensor(0.6320, grad_fn=<BinaryCrossEntropyBackward0>)\n",
      "\n",
      "\n",
      "Manual implementation\n",
      "Output Loss =  tensor(0.6320, grad_fn=<MeanBackward0>)\n",
      "\n",
      "\n"
     ]
    }
   ],
   "source": [
    "print(\"Module Implementation\")\n",
    "loss = nn.BCELoss()\n",
    "sigmoid = nn.Sigmoid()\n",
    "\n",
    "output = torch.randn(5, requires_grad=True)\n",
    "sigmoid_output = sigmoid(output) # CrossEntropy와 달리 sigmoid없으면 오류 발생\n",
    "target_data = torch.empty(5).random_(2) # Binary Target\n",
    "\n",
    "output_loss = loss(sigmoid_output, target_data)\n",
    "output_loss.backward(retain_graph=True)    # loss.backward() computes dloss/dx for every parameter x which has requires_grad=True.\n",
    "\n",
    "print(\"Input Data = \", output)\n",
    "print(\"Target Data = \", target_data)\n",
    "print(\"Output Loss = \", output_loss)\n",
    "print(\"\\n\")\n",
    "\n",
    "print(\"Functional implementation\")\n",
    "output_loss = F.binary_cross_entropy(sigmoid_output, target_data)\n",
    "output_loss.backward()    # loss.backward() computes dloss/dx for every parameter x which has requires_grad=True.\n",
    "print(\"Output Loss = \", output_loss)\n",
    "print(\"\\n\")\n",
    "\n",
    "print(\"Manual implementation\")\n",
    "output_loss = torch.mean( - ( target_data * torch.log(sigmoid_output) + (1 - target_data) * torch.log(1-sigmoid_output) ) )\n",
    "\n",
    "print(\"Output Loss = \", output_loss)\n",
    "print(\"\\n\")\n",
    "\n"
   ]
  },
  {
   "attachments": {},
   "cell_type": "markdown",
   "metadata": {},
   "source": [
    "## BCEWithLogitsLoss\n",
    "\n",
    "`BCELoss 앞에 Sigmoid layer 를 추가한 (Sigmoid + BCELoss). 따라서 sigmoid 나 softmax 불필요`\n",
    "\n",
    "```python\n",
    "torch.nn.BCEWithLogitsLoss(weight=None, size_average=None, reduce=None, reduction='mean', pos_weight=None)\n",
    "```\n",
    "\n",
    "만약 Sigmoid를 사용한다면, Sigmoide 와 BCELoss를 사용하는 것 보다는 BCEWithLogitsLoss를 사용하는 것이 더 안정적\n",
    "\n",
    "$$\\ell(x, y) = L = \\{l_1,\\dots,l_N\\}^\\top, \\quad\n",
    "l_n = - w_n \\left[ t_n \\cdot \\log \\sigma(x_n)\n",
    "+ (1 - t_n) \\cdot \\log (1 - \\sigma(x_n)) \\right]$$"
   ]
  },
  {
   "cell_type": "code",
   "execution_count": 18,
   "metadata": {},
   "outputs": [
    {
     "name": "stdout",
     "output_type": "stream",
     "text": [
      "Module implementation\n",
      "Input Data =  tensor([ 0.6399, -1.0481,  0.2680, -1.1035, -0.3882], requires_grad=True)\n",
      "\n",
      "\n",
      "Target Data =  tensor([0., 1., 1., 0., 1.])\n",
      "\n",
      "\n",
      "Output Loss =  tensor(0.6862, grad_fn=<BinaryCrossEntropyWithLogitsBackward0>)\n",
      "\n",
      "\n",
      "Functional implementation\n",
      "Output Loss =  tensor(0.6862, grad_fn=<BinaryCrossEntropyWithLogitsBackward0>)\n"
     ]
    }
   ],
   "source": [
    "print(\"Module implementation\")\n",
    "loss = nn.BCEWithLogitsLoss()\n",
    "sigmoid = nn.Sigmoid()\n",
    "\n",
    "input_data = torch.randn(5, requires_grad=True)\n",
    "sigmoid_input_data = sigmoid(input_data) \n",
    "\n",
    "target_data = torch.empty(5).random_(2) # Binary Target\n",
    "\n",
    "output_loss = loss(sigmoid_input_data, target_data)\n",
    "output_loss.backward(retain_graph=True)    # loss.backward() computes dloss/dx for every parameter x which has requires_grad=True.\n",
    "\n",
    "print(\"Input Data = \", input_data)\n",
    "print(\"\\n\")\n",
    "print(\"Target Data = \", target_data)\n",
    "print(\"\\n\")\n",
    "print(\"Output Loss = \", output_loss)\n",
    "print(\"\\n\")\n",
    "\n",
    "print(\"Functional implementation\")\n",
    "output_loss = F.binary_cross_entropy_with_logits(sigmoid_input_data, target_data)\n",
    "output_loss.backward()    # loss.backward() computes dloss/dx for every parameter x which has requires_grad=True.\n",
    "print(\"Output Loss = \", output_loss)"
   ]
  },
  {
   "attachments": {},
   "cell_type": "markdown",
   "metadata": {},
   "source": [
    "## L1 loss Function\n",
    "\n",
    "\n",
    "`nn.L1Loss`: Creates a criterion that measures the mean absolute value of the element-wise difference between input x and target y\n",
    "    \n",
    "$$\\ell(x, y) = L = \\{l_1,\\dots,l_N\\}^\\top, \\quad\n",
    "l_n = \\left| x_n - y_n \\right|$$"
   ]
  },
  {
   "cell_type": "code",
   "execution_count": 19,
   "metadata": {},
   "outputs": [
    {
     "name": "stdout",
     "output_type": "stream",
     "text": [
      "Module implementation\n",
      "Input Data =  tensor([ 0.2909,  0.1518, -0.6119,  0.5733, -2.5542,  0.3013, -0.7613, -0.8967,\n",
      "         0.0834,  1.0762], requires_grad=True)\n",
      "Output Loss =  tensor(1.2719, grad_fn=<L1LossBackward0>)\n",
      "\n",
      "\n",
      "Functional implementation\n",
      "Output Loss =  tensor(1.2719, grad_fn=<L1LossBackward0>)\n"
     ]
    }
   ],
   "source": [
    "print(\"Module implementation\")\n",
    "loss = nn.L1Loss()\n",
    "input_data = torch.randn(10, requires_grad=True)\n",
    "target_data = torch.randn(10)\n",
    "output_loss = loss(input_data, target_data)\n",
    "output_loss.backward()    # loss.backward() computes dloss/dx for every parameter x which has requires_grad=True.\n",
    "\n",
    "print(\"Input Data = \", input_data)\n",
    "print(\"Output Loss = \", output_loss)\n",
    "print(\"\\n\")\n",
    "\n",
    "print(\"Functional implementation\")\n",
    "output_loss = F.l1_loss(input_data, target_data, reduction='elementwise_mean')\n",
    "output_loss.backward()    # loss.backward() computes dloss/dx for every parameter x which has requires_grad=True.\n",
    "print(\"Output Loss = \", output_loss)"
   ]
  },
  {
   "attachments": {},
   "cell_type": "markdown",
   "metadata": {},
   "source": [
    "## Mean Square Error\n",
    "\n",
    "Mean Squared Error (MSE) 는 딥러닝에서 가장 많이 사용하는 loss.Output은 예측값, target은 정답값.\n",
    "\n",
    "$\\begin{align}\n",
    "{1 \\over n}\\sum_{i=1}^n(\\text{output}_i - \\text{target}_i)^2\n",
    "\\end{align}$\n",
    "\n",
    "\n",
    "```python\n",
    "torch.nn.MSELoss(size_average=None, reduce=None, reduction='mean')\n",
    "```\n",
    "\n",
    "여기서 input과 target의 shape은 (minibatch, …)으로 동일. 이미지 간의 mse loss를 구한다면, (minibatch, h, w, channel) 이 됨.\n",
    "\n",
    "<img src=\"img/mse_loss.png\" width=\"900\">\n",
    "\n",
    "\n",
    "```python\n",
    "import torch.nn as nn\n",
    "criterion = nn.MSELoss()\n",
    "...\n",
    "loss = criterion(input, target)\n",
    "```"
   ]
  },
  {
   "cell_type": "code",
   "execution_count": 20,
   "metadata": {},
   "outputs": [
    {
     "name": "stdout",
     "output_type": "stream",
     "text": [
      "Module implementation\n",
      "Input Data =  tensor([ 0.5403,  0.6665,  1.2667, -0.6150, -0.5709,  1.1037, -0.8704,  1.4374,\n",
      "         0.0727, -0.6800], requires_grad=True)\n",
      "Output Loss =  tensor(1.5247, grad_fn=<MseLossBackward0>)\n",
      "\n",
      "\n",
      "Functional implementation\n",
      "Output Loss =  tensor(1.5247, grad_fn=<MseLossBackward0>)\n"
     ]
    }
   ],
   "source": [
    "print(\"Module implementation\")\n",
    "loss = nn.MSELoss()\n",
    "input_data = torch.randn(10, requires_grad=True)\n",
    "target_data = torch.randn(10)\n",
    "output_loss = loss(input_data, target_data)\n",
    "output_loss.backward()    # loss.backward() computes dloss/dx for every parameter x which has requires_grad=True.\n",
    "\n",
    "print(\"Input Data = \", input_data)\n",
    "print(\"Output Loss = \", output_loss)\n",
    "print(\"\\n\")\n",
    "\n",
    "print(\"Functional implementation\")\n",
    "output_loss = F.mse_loss(input_data, target_data, reduction='elementwise_mean')\n",
    "output_loss.backward()    # loss.backward() computes dloss/dx for every parameter x which has requires_grad=True.\n",
    "print(\"Output Loss = \", output_loss)"
   ]
  },
  {
   "attachments": {},
   "cell_type": "markdown",
   "metadata": {},
   "source": [
    "# Cross Entropy vs MSE\n",
    "\n",
    "`Cross entorpy is better than MSE for classification, even though MSE can work!!`\n",
    "\n",
    "\n",
    "<img src=\"img/loss_case_1.png\" width=720> <img src=\"img/loss_case_2.png\" width=700>"
   ]
  },
  {
   "attachments": {},
   "cell_type": "markdown",
   "metadata": {},
   "source": [
    "### Method 1) Target is given in onehot"
   ]
  },
  {
   "cell_type": "code",
   "execution_count": 13,
   "metadata": {},
   "outputs": [
    {
     "name": "stdout",
     "output_type": "stream",
     "text": [
      "Case 1-  [CE:]1.38, [MSE:]0.81\n",
      "tensor([[0.0000, 0.0000, 0.9163],\n",
      "        [0.0000, 0.9163, 0.0000],\n",
      "        [2.3026, 0.0000, 0.0000]])\n",
      "tensor([[0.0900, 0.0900, 0.3600],\n",
      "        [0.0900, 0.3600, 0.0900],\n",
      "        [0.8100, 0.0400, 0.4900]])\n",
      "Case 2-  [CE:]0.64, [MSE:]0.34\n",
      "tensor([[0.0000, 0.0000, 0.3567],\n",
      "        [0.0000, 0.3567, 0.0000],\n",
      "        [1.2040, 0.0000, 0.0000]])\n",
      "tensor([[0.0100, 0.0400, 0.0900],\n",
      "        [0.0100, 0.0900, 0.0400],\n",
      "        [0.4900, 0.1600, 0.0900]])\n"
     ]
    }
   ],
   "source": [
    "import torch\n",
    "import torch.nn as nn\n",
    "\n",
    "#Case 1\n",
    "output_1 = torch.tensor([[0.3, 0.3, 0.4],[0.3, 0.4, 0.3],[0.1, 0.2, 0.7]], dtype = torch.float32)\n",
    "label_1 = torch.tensor([[0,0,1],[0,1,0],[1,0,0]], dtype = torch.float32) # or torch.tensor([2,1,0]\n",
    "loss_1_ce = torch.mean( torch.sum(-torch.log(output_1) * label_1, dim = 1 ) )\n",
    "loss_1_mse = torch.mean( torch.sum( (output_1 - label_1)**2, dim=1) )\n",
    "print(f\"Case 1-  [CE:]{loss_1_ce:.2f}, [MSE:]{loss_1_mse:.2f}\")\n",
    "print(-torch.log(output_1)*label_1)\n",
    "print((output_1 - label_1)**2)\n",
    "#Case 2\n",
    "output_2 = torch.tensor([[0.1, 0.2, 0.7],[0.1, 0.7, 0.2],[0.3, 0.4, 0.3]], dtype = torch.float32)\n",
    "label_2 = torch.tensor([[0,0,1],[0,1,0],[1,0,0]], dtype = torch.float32) # or torch.tensor([2,1,0]\n",
    "loss_2_ce = torch.mean( torch.sum(-torch.log(output_2) * label_2, dim = 1 ) )\n",
    "loss_2_mse = torch.mean( torch.sum( (output_2 - label_2)**2, dim=1) )\n",
    "print(f\"Case 2-  [CE:]{loss_2_ce:.2f}, [MSE:]{loss_2_mse:.2f}\")\n",
    "print(-torch.log(output_2)*label_2)\n",
    "print((output_2 - label_2)**2)\n"
   ]
  },
  {
   "attachments": {},
   "cell_type": "markdown",
   "metadata": {},
   "source": [
    "### Method 2) Target is given in labels"
   ]
  },
  {
   "cell_type": "code",
   "execution_count": 3,
   "metadata": {},
   "outputs": [
    {
     "name": "stdout",
     "output_type": "stream",
     "text": [
      "Case 1-  [CE:]1.38, [MSE:]3.41\n",
      "tensor([[2.4079, 2.4079, 1.8326],\n",
      "        [1.2040, 0.9163, 1.2040],\n",
      "        [0.0000, 0.0000, 0.0000]])\n",
      "tensor([[2.8900, 2.8900, 2.5600],\n",
      "        [0.4900, 0.3600, 0.4900],\n",
      "        [0.0100, 0.0400, 0.4900]])\n",
      "Case 2-  [CE:]0.64, [MSE:]3.47\n",
      "tensor([[4.6052, 3.2189, 0.7133],\n",
      "        [2.3026, 0.3567, 1.6094],\n",
      "        [0.0000, 0.0000, 0.0000]])\n",
      "tensor([[3.6100, 3.2400, 1.6900],\n",
      "        [0.8100, 0.0900, 0.6400],\n",
      "        [0.0900, 0.1600, 0.0900]])\n"
     ]
    }
   ],
   "source": [
    "import torch\n",
    "import torch.nn as nn\n",
    "\n",
    "#Case 1\n",
    "output_1 = torch.tensor([[0.3, 0.3, 0.4],[0.3, 0.4, 0.3],[0.1, 0.2, 0.7]], dtype = torch.float32)\n",
    "label_1 = torch.tensor([2, 1, 0]).reshape(3,1)\n",
    "loss_1_ce = torch.mean( -torch.log(torch.gather(output_1, 1, label_1) ) )\n",
    "loss_1_mse = torch.mean( torch.sum( (output_1 - label_1)**2, dim=1) )\n",
    "print(f\"Case 1-  [CE:]{loss_1_ce:.2f}, [MSE:]{loss_1_mse:.2f}\")\n",
    "print(-torch.log(output_1)*label_1)\n",
    "print((output_1 - label_1)**2)\n",
    "#Case 2\n",
    "output_2 = torch.tensor([[0.1, 0.2, 0.7],[0.1, 0.7, 0.2],[0.3, 0.4, 0.3]], dtype = torch.float32)\n",
    "label_2 = torch.tensor([2, 1, 0]).reshape(3,1)\n",
    "loss_2_ce = torch.mean( -torch.log(torch.gather(output_2, 1, label_2) ) )\n",
    "loss_2_mse = torch.mean( torch.sum( (output_2 - label_2)**2, dim=1) )\n",
    "print(f\"Case 2-  [CE:]{loss_2_ce:.2f}, [MSE:]{loss_2_mse:.2f}\")\n",
    "print(-torch.log(output_2)*label_2)\n",
    "print((output_2 - label_2)**2)\n"
   ]
  },
  {
   "attachments": {},
   "cell_type": "markdown",
   "metadata": {},
   "source": [
    "`MSE can impose much higher loss (penaly) for wrong answers!`  \n",
    "`The lowwer the probability corresponding to the correct answer, the higher the penalty`\n",
    "\n"
   ]
  },
  {
   "cell_type": "code",
   "execution_count": 28,
   "metadata": {},
   "outputs": [
    {
     "name": "stderr",
     "output_type": "stream",
     "text": [
      "C:\\Users\\user\\AppData\\Local\\Temp\\ipykernel_9320\\3319023339.py:5: RuntimeWarning: divide by zero encountered in log\n",
      "  ce = -np.log(output)\n"
     ]
    },
    {
     "data": {
      "image/png": "[encoded data removed]",
      "text/plain": [
       "<Figure size 432x288 with 1 Axes>"
      ]
     },
     "metadata": {
      "needs_background": "light"
     },
     "output_type": "display_data"
    }
   ],
   "source": [
    "import matplotlib.pyplot as plt\n",
    "import numpy as np\n",
    "\n",
    "output = np.linspace(0, 1, 100) #\n",
    "ce = -np.log(output)\n",
    "mse = (output-1)**2 # the squared error between output and correct answer\n",
    "\n",
    "plt.plot(output, ce, 'r-', label='Cross Entropy')\n",
    "plt.plot(output, mse, 'b-', label='MSE')\n",
    "plt.legend()\n",
    "plt.show()\n"
   ]
  },
  {
   "attachments": {},
   "cell_type": "markdown",
   "metadata": {},
   "source": [
    "# `Lab 1.` We have three clasess (`dog, cat, and panda`). For given input data, train the following netwok to yield the output corresponding to `cat`."
   ]
  },
  {
   "cell_type": "code",
   "execution_count": null,
   "metadata": {},
   "outputs": [],
   "source": [
    "import torch\n",
    "import torch.nn as nn\n",
    "import torch.optim as optim\n",
    "\n",
    "input_size = 10\n",
    "num_classes = 3\n",
    "\n",
    "x = torch.randn(1, input_size)\n",
    "model = nn.Linear(~~~"
   ]
  },
  {
   "attachments": {},
   "cell_type": "markdown",
   "metadata": {},
   "source": [
    "# `Lab 2.` We have three clasess (`dog, cat, and panda`). For given input data, train the following netwok to yield the output pointing both `dog and cat`."
   ]
  },
  {
   "cell_type": "code",
   "execution_count": null,
   "metadata": {},
   "outputs": [],
   "source": [
    "import torch\n",
    "import torch.nn as nn\n",
    "import torch.optim as optim\n",
    "\n",
    "input_size = 10\n",
    "num_classes = 3\n",
    "\n",
    "x = torch.randn(1, input_size)\n",
    "model = nn.Linear( ~~~)"
   ]
  },
  {
   "cell_type": "code",
   "execution_count": null,
   "metadata": {},
   "outputs": [],
   "source": []
  }
 ],
 "metadata": {
  "kernelspec": {
   "display_name": "venv",
   "language": "python",
   "name": "python3"
  },
  "language_info": {
   "codemirror_mode": {
    "name": "ipython",
    "version": 3
   },
   "file_extension": ".py",
   "mimetype": "text/x-python",
   "name": "python",
   "nbconvert_exporter": "python",
   "pygments_lexer": "ipython3",
   "version": "3.9.7"
  },
  "vscode": {
   "interpreter": {
    "hash": "cf5d689ac1d312cef1fba9545d41ab0482d31686d08c5b391b55a4a6eb2b95c4"
   }
  }
 },
 "nbformat": 4,
 "nbformat_minor": 2
}
