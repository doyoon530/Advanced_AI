{
 "cells": [
  {
   "cell_type": "markdown",
   "metadata": {},
   "source": [
    "# `Test: Classification of MNIST handwritten digits`"
   ]
  },
  {
   "cell_type": "code",
   "execution_count": 4,
   "metadata": {},
   "outputs": [
    {
     "data": {
      "image/png": "[encoded data removed]",
      "text/plain": [
       "<Figure size 1440x144 with 10 Axes>"
      ]
     },
     "metadata": {
      "needs_background": "light"
     },
     "output_type": "display_data"
    }
   ],
   "source": [
    "import torch\n",
    "import torch.nn as nn\n",
    "import torchvision\n",
    "import torchvision.transforms as transforms\n",
    "from torch.utils.data import DataLoader\n",
    "import matplotlib.pyplot as plt\n",
    "from pathlib import Path\n",
    "\n",
    "dir = Path.joinpath(list(Path.cwd().parents)[2], \"00. DeepLearning/00_Dataset\")\n",
    "\n",
    "# MNIST dataset (images and labels)\n",
    "train_dataset = torchvision.datasets.MNIST(root=dir, \n",
    "                                           train=True, \n",
    "                                           transform=transforms.ToTensor(),\n",
    "                                           download=True)\n",
    "\n",
    "text_labels = ['zero', 'one','two','three','four', 'five','six','seven','eight','nine']\n",
    "\n",
    "fig, axes = plt.subplots(1,10,figsize=(20, 2))\n",
    "for i in range(10):\n",
    "    img = train_dataset[i][0]\n",
    "    label = train_dataset[i][1]\n",
    "    axes[i].imshow(img.squeeze(), cmap='gray')\n",
    "    axes[i].set_title(text_labels[label])"
   ]
  },
  {
   "cell_type": "markdown",
   "metadata": {},
   "source": [
    "# ` Problem 1: Design a neural network to classify MNIST digits into even and odd`\n",
    "\n",
    "- Analyze the results of train and testing in terms of loss and accuracy by using graphs or tables, respectively."
   ]
  },
  {
   "cell_type": "code",
   "execution_count": 5,
   "metadata": {},
   "outputs": [
    {
     "name": "stdout",
     "output_type": "stream",
     "text": [
      "Epoch [1/10], Loss: 0.12338105340856614\n",
      "Epoch [2/10], Loss: 0.05067230673801742\n",
      "Epoch [3/10], Loss: 0.03580316275133313\n",
      "Epoch [4/10], Loss: 0.026518595154716898\n",
      "Epoch [5/10], Loss: 0.02104207058052427\n",
      "Epoch [6/10], Loss: 0.01580040219572754\n",
      "Epoch [7/10], Loss: 0.013008666971176149\n",
      "Epoch [8/10], Loss: 0.010259659268214977\n",
      "Epoch [9/10], Loss: 0.008374283287167524\n",
      "Epoch [10/10], Loss: 0.007909754298617587\n"
     ]
    }
   ],
   "source": [
    "class EvenOddClassifier(nn.Module):\n",
    "    def __init__(self):\n",
    "        super(EvenOddClassifier, self).__init__()\n",
    "        self.conv1 = nn.Conv2d(1, 16, kernel_size=3, stride=1, padding=1)\n",
    "        self.conv2 = nn.Conv2d(16, 32, kernel_size=3, stride=1, padding=1)\n",
    "        self.pool = nn.MaxPool2d(kernel_size=2, stride=2, padding=0)\n",
    "        self.flatten = nn.Flatten()\n",
    "        self.fc1 = nn.Linear(32 * 7 * 7, 128)\n",
    "        self.fc2 = nn.Linear(128, 1)\n",
    "\n",
    "    def forward(self, x):\n",
    "        # Reshape input to [batch_size, channels, height, width]\n",
    "        x = x.view(-1, 1, 28, 28)  # Assuming input images are of size 28x28\n",
    "        x = self.pool(torch.relu(self.conv1(x)))\n",
    "        x = self.pool(torch.relu(self.conv2(x)))\n",
    "        x = self.flatten(x)\n",
    "        x = torch.relu(self.fc1(x))\n",
    "        x = self.fc2(x)\n",
    "        return x\n",
    "    \n",
    "# Initialize the model\n",
    "model = EvenOddClassifier()\n",
    "\n",
    "# Loss function and optimizer\n",
    "criterion = nn.BCEWithLogitsLoss()  # Binary Cross Entropy Loss\n",
    "optimizer = torch.optim.Adam(model.parameters(), lr=0.001)  # Adam optimizer\n",
    "\n",
    "# Data loaders\n",
    "train_loader = DataLoader(train_dataset, batch_size=64, shuffle=True)\n",
    "\n",
    "# 리스트를 생성하여 각 epoch의 loss를 저장합니다.\n",
    "losses = []\n",
    "\n",
    "# Training loop\n",
    "num_epochs = 10\n",
    "for epoch in range(num_epochs):\n",
    "    epoch_losses = []  # 각 epoch에서의 loss를 저장하기 위한 리스트\n",
    "    for images, labels in train_loader:\n",
    "        optimizer.zero_grad()\n",
    "        outputs = model(images)\n",
    "        labels = (labels % 2).float().view(-1, 1)  # Convert labels to even (0) or odd (1)\n",
    "        loss = criterion(outputs, labels)\n",
    "        loss.backward()\n",
    "        optimizer.step()\n",
    "        \n",
    "        epoch_losses.append(loss.item())  # 현재 배치의 loss를 저장\n",
    "    \n",
    "    # 각 epoch에서의 평균 loss를 계산하여 리스트에 저장합니다.\n",
    "    epoch_loss = sum(epoch_losses) / len(epoch_losses)\n",
    "    losses.append(epoch_loss)\n",
    "    \n",
    "    print(f\"Epoch [{epoch+1}/{num_epochs}], Loss: {epoch_loss}\")\n",
    "\n",
    "# 모델을 저장하는 코드 (학습이 끝난 후에 모델 저장)\n",
    "torch.save(model.state_dict(), 'model_mnist_even_odd.pth')\n"
   ]
  },
  {
   "cell_type": "markdown",
   "metadata": {},
   "source": [
    "# `Problem 2: Test The Trained Model With Your Own Handwritten Digit Images.`\n",
    "\n",
    "- You need multiple images more than ten at leat.\n",
    "\n",
    "- Display your testing with `imshow` and `accucray`\n",
    "\n"
   ]
  },
  {
   "cell_type": "code",
   "execution_count": 6,
   "metadata": {},
   "outputs": [
    {
     "data": {
      "image/png": "[encoded data removed]",
      "text/plain": [
       "<Figure size 432x288 with 1 Axes>"
      ]
     },
     "metadata": {
      "needs_background": "light"
     },
     "output_type": "display_data"
    }
   ],
   "source": [
    "# Loss 그래프를 그립니다.\n",
    "import matplotlib.pyplot as plt\n",
    "\n",
    "plt.plot(losses, label='Training Loss')\n",
    "plt.xlabel('Epochs')\n",
    "plt.ylabel('Loss')\n",
    "plt.title('Training Loss over Epochs')\n",
    "plt.legend()\n",
    "plt.show()\n"
   ]
  }
 ],
 "metadata": {
  "kernelspec": {
   "display_name": "Python 3.8.5 ('venv')",
   "language": "python",
   "name": "python3"
  },
  "language_info": {
   "codemirror_mode": {
    "name": "ipython",
    "version": 3
   },
   "file_extension": ".py",
   "mimetype": "text/x-python",
   "name": "python",
   "nbconvert_exporter": "python",
   "pygments_lexer": "ipython3",
   "version": "3.9.7"
  },
  "vscode": {
   "interpreter": {
    "hash": "cf5d689ac1d312cef1fba9545d41ab0482d31686d08c5b391b55a4a6eb2b95c4"
   }
  }
 },
 "nbformat": 4,
 "nbformat_minor": 2
}
